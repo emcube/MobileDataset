{
 "cells": [
  {
   "cell_type": "markdown",
   "metadata": {},
   "source": [
    "# Mobile Data\n",
    "This project aims to study the patterns in mobile apps. It will be used for in app ads."
   ]
  },
  {
   "cell_type": "code",
   "execution_count": 1,
   "metadata": {},
   "outputs": [],
   "source": [
    "def explore_data(dataset, start, end, rows_and_columns=False):\n",
    "    dataset_slice = dataset[start:end]    \n",
    "    for row in dataset_slice:\n",
    "        print(row)\n",
    "        print('\\n') # adds a new (empty) line after each row\n",
    "\n",
    "    if rows_and_columns:\n",
    "        print('Number of rows:', len(dataset))\n",
    "        print('Number of columns:', len(dataset[0]))"
   ]
  },
  {
   "cell_type": "code",
   "execution_count": 2,
   "metadata": {},
   "outputs": [],
   "source": [
    "openedfileios = open('/Volumes/GoogleDrive/My Drive/My Backup/_Current/Development/Python/data quest/data/appstore10K/AppleStore.csv')\n",
    "openedfileDroid = open(\"/Volumes/GoogleDrive/My Drive/My Backup/_Current/Development/Python/data quest/data/google-play-store-apps/googleplaystore.csv\")\n",
    "\n",
    "from csv import reader\n",
    "\n",
    "readfileios = reader(openedfileios)\n",
    "readfileDroid = reader (openedfileDroid)\n",
    "\n",
    "appsDataios = list(readfileios)\n",
    "appsDataDroid = list(readfileDroid)"
   ]
  },
  {
   "cell_type": "code",
   "execution_count": 3,
   "metadata": {},
   "outputs": [
    {
     "name": "stdout",
     "output_type": "stream",
     "text": [
      "['App', 'Category', 'Rating', 'Reviews', 'Size', 'Installs', 'Type', 'Price', 'Content Rating', 'Genres', 'Last Updated', 'Current Ver', 'Android Ver']\n",
      "\n",
      "\n"
     ]
    }
   ],
   "source": [
    "explore_data(appsDataDroid, 0, 1)"
   ]
  },
  {
   "cell_type": "markdown",
   "metadata": {},
   "source": [
    "### Data links\n",
    "Link to the Droid Data Docs:\n",
    "https://www.kaggle.com/lava18/google-play-store-apps\n",
    "\n",
    "Link to the iOS Data Docs:\n",
    "https://www.kaggle.com/ramamet4/app-store-apple-data-set-10k-apps/home"
   ]
  },
  {
   "cell_type": "code",
   "execution_count": 4,
   "metadata": {},
   "outputs": [
    {
     "name": "stdout",
     "output_type": "stream",
     "text": [
      "['', 'id', 'track_name', 'size_bytes', 'currency', 'price', 'rating_count_tot', 'rating_count_ver', 'user_rating', 'user_rating_ver', 'ver', 'cont_rating', 'prime_genre', 'sup_devices.num', 'ipadSc_urls.num', 'lang.num', 'vpp_lic']\n",
      "\n",
      "\n"
     ]
    }
   ],
   "source": [
    "explore_data(appsDataios, 0, 1)"
   ]
  },
  {
   "cell_type": "code",
   "execution_count": 5,
   "metadata": {},
   "outputs": [
    {
     "name": "stdout",
     "output_type": "stream",
     "text": [
      "10841\n"
     ]
    }
   ],
   "source": [
    "print(len(appsDataDroid[1:]))"
   ]
  },
  {
   "cell_type": "code",
   "execution_count": 6,
   "metadata": {},
   "outputs": [
    {
     "name": "stdout",
     "output_type": "stream",
     "text": [
      "7197\n"
     ]
    }
   ],
   "source": [
    "print(len(appsDataios[1:]))"
   ]
  },
  {
   "cell_type": "code",
   "execution_count": 7,
   "metadata": {},
   "outputs": [
    {
     "name": "stdout",
     "output_type": "stream",
     "text": [
      "13\n"
     ]
    }
   ],
   "source": [
    "print(len(appsDataDroid[1]))"
   ]
  },
  {
   "cell_type": "code",
   "execution_count": 8,
   "metadata": {},
   "outputs": [
    {
     "name": "stdout",
     "output_type": "stream",
     "text": [
      "17\n"
     ]
    }
   ],
   "source": [
    "print(len(appsDataios[1]))"
   ]
  },
  {
   "cell_type": "code",
   "execution_count": 9,
   "metadata": {},
   "outputs": [
    {
     "name": "stdout",
     "output_type": "stream",
     "text": [
      "['App', 'Category', 'Rating', 'Reviews', 'Size', 'Installs', 'Type', 'Price', 'Content Rating', 'Genres', 'Last Updated', 'Current Ver', 'Android Ver']\n",
      "\n",
      "\n",
      "['Life Made WI-Fi Touchscreen Photo Frame', '1.9', '19', '3.0M', '1,000+', 'Free', '0', 'Everyone', '', 'February 11, 2018', '1.0.19', '4.0 and up']\n",
      "\n",
      "\n",
      "['osmino Wi-Fi: free WiFi', 'TOOLS', '4.2', '134203', '4.1M', '10,000,000+', 'Free', '0', 'Everyone', 'Tools', 'August 7, 2018', '6.06.14', '4.4 and up']\n",
      "\n",
      "\n"
     ]
    }
   ],
   "source": [
    "explore_data(appsDataDroid, 0, 1)\n",
    "explore_data(appsDataDroid, 10473, 10475)"
   ]
  },
  {
   "cell_type": "code",
   "execution_count": 10,
   "metadata": {},
   "outputs": [],
   "source": [
    "del appsDataDroid[10473]"
   ]
  },
  {
   "cell_type": "code",
   "execution_count": 11,
   "metadata": {},
   "outputs": [
    {
     "name": "stdout",
     "output_type": "stream",
     "text": [
      "10840\n",
      "['Xposed Wi-Fi-Pwd', 'PERSONALIZATION', '3.5', '1042', '404k', '100,000+', 'Free', '0', 'Everyone', 'Personalization', 'August 5, 2014', '3.0.0', '4.0.3 and up']\n",
      "\n",
      "\n",
      "['osmino Wi-Fi: free WiFi', 'TOOLS', '4.2', '134203', '4.1M', '10,000,000+', 'Free', '0', 'Everyone', 'Tools', 'August 7, 2018', '6.06.14', '4.4 and up']\n",
      "\n",
      "\n",
      "['Sat-Fi Voice', 'COMMUNICATION', '3.4', '37', '14M', '1,000+', 'Free', '0', 'Everyone', 'Communication', 'November 21, 2014', '2.2.1.5', '2.2 and up']\n",
      "\n",
      "\n"
     ]
    }
   ],
   "source": [
    "print(len(appsDataDroid[1:]))\n",
    "explore_data(appsDataDroid, 10472, 10475)"
   ]
  },
  {
   "cell_type": "markdown",
   "metadata": {},
   "source": [
    "There are some rows in the Google Play Store data with duplicate values. We will remove the duplicate entries and we will keep one entry which shows highest number of reviews. "
   ]
  },
  {
   "cell_type": "code",
   "execution_count": 12,
   "metadata": {},
   "outputs": [],
   "source": [
    "duplicateApps = []\n",
    "uniqueApps = []\n",
    "name = []\n",
    "for alist in appsDataDroid[1:]:\n",
    "    name.append(alist[0])\n",
    "    if (alist[0] in uniqueApps):\n",
    "        duplicateApps.append(alist[0])\n",
    "    else:\n",
    "        uniqueApps.append(alist[0])"
   ]
  },
  {
   "cell_type": "code",
   "execution_count": 13,
   "metadata": {},
   "outputs": [
    {
     "name": "stdout",
     "output_type": "stream",
     "text": [
      "10840\n",
      "9659\n",
      "1181\n"
     ]
    }
   ],
   "source": [
    "print(len(name))\n",
    "print(len(uniqueApps))\n",
    "print(len(duplicateApps))"
   ]
  },
  {
   "cell_type": "code",
   "execution_count": 14,
   "metadata": {},
   "outputs": [],
   "source": [
    "reviews_max = {}\n",
    "count = 0\n",
    "for alist in appsDataDroid[1:]:\n",
    "    name = alist[0]\n",
    "    if (alist[3] == \"3.0M\"):\n",
    "        print(count)\n",
    "    count += 1\n",
    "    n_reviews = float(alist[3])\n",
    "    if ((name in reviews_max) and (n_reviews > reviews_max[name])):\n",
    "        reviews_max[name] = n_reviews\n",
    "    elif (name not in reviews_max):\n",
    "        reviews_max[name] = n_reviews"
   ]
  },
  {
   "cell_type": "code",
   "execution_count": 15,
   "metadata": {},
   "outputs": [
    {
     "data": {
      "text/plain": [
       "9659"
      ]
     },
     "execution_count": 15,
     "metadata": {},
     "output_type": "execute_result"
    }
   ],
   "source": [
    "len(reviews_max)"
   ]
  },
  {
   "cell_type": "code",
   "execution_count": 16,
   "metadata": {},
   "outputs": [],
   "source": [
    "android_clean = []\n",
    "already_added = []\n",
    "for alist in appsDataDroid[1:]:\n",
    "    name = alist[0]\n",
    "    n_reviews = float(alist[3])\n",
    "    if (n_reviews == reviews_max[name]) and (name not in already_added):\n",
    "        android_clean.append(alist)\n",
    "        already_added.append(name)"
   ]
  },
  {
   "cell_type": "code",
   "execution_count": 17,
   "metadata": {},
   "outputs": [
    {
     "name": "stdout",
     "output_type": "stream",
     "text": [
      "9659\n",
      "[['Photo Editor & Candy Camera & Grid & ScrapBook', 'ART_AND_DESIGN', '4.1', '159', '19M', '10,000+', 'Free', '0', 'Everyone', 'Art & Design', 'January 7, 2018', '1.0.0', '4.0.3 and up'], ['U Launcher Lite – FREE Live Cool Themes, Hide Apps', 'ART_AND_DESIGN', '4.7', '87510', '8.7M', '5,000,000+', 'Free', '0', 'Everyone', 'Art & Design', 'August 1, 2018', '1.2.4', '4.0.3 and up'], ['Sketch - Draw & Paint', 'ART_AND_DESIGN', '4.5', '215644', '25M', '50,000,000+', 'Free', '0', 'Teen', 'Art & Design', 'June 8, 2018', 'Varies with device', '4.2 and up'], ['Pixel Draw - Number Art Coloring Book', 'ART_AND_DESIGN', '4.3', '967', '2.8M', '100,000+', 'Free', '0', 'Everyone', 'Art & Design;Creativity', 'June 20, 2018', '1.1', '4.4 and up'], ['Paper flowers instructions', 'ART_AND_DESIGN', '4.4', '167', '5.6M', '50,000+', 'Free', '0', 'Everyone', 'Art & Design', 'March 26, 2017', '1.0', '2.3 and up']]\n"
     ]
    }
   ],
   "source": [
    "print(len(android_clean))\n",
    "print(android_clean[:5])"
   ]
  },
  {
   "cell_type": "code",
   "execution_count": 18,
   "metadata": {},
   "outputs": [],
   "source": [
    "def checkEngChar(astring):\n",
    "    count = 0\n",
    "    for c in astring:\n",
    "        if (ord(c) > 127):\n",
    "            count+=1\n",
    "            if (count > 3):\n",
    "                return False\n",
    "    return True"
   ]
  },
  {
   "cell_type": "code",
   "execution_count": 19,
   "metadata": {},
   "outputs": [
    {
     "name": "stdout",
     "output_type": "stream",
     "text": [
      "True\n",
      "False\n",
      "True\n",
      "True\n"
     ]
    }
   ],
   "source": [
    "print(checkEngChar(\"Instagram\"))\n",
    "print(checkEngChar(\"爱奇艺PPS -《欢乐颂2》电视剧热播\"))\n",
    "print(checkEngChar('Docs To Go™ Free Office Suite'))\n",
    "print(checkEngChar('Instachat 😜'))"
   ]
  },
  {
   "cell_type": "code",
   "execution_count": 22,
   "metadata": {},
   "outputs": [
    {
     "name": "stdout",
     "output_type": "stream",
     "text": [
      "9614 9659\n",
      "6183 7198\n",
      "[['Photo Editor & Candy Camera & Grid & ScrapBook', 'ART_AND_DESIGN', '4.1', '159', '19M', '10,000+', 'Free', '0', 'Everyone', 'Art & Design', 'January 7, 2018', '1.0.0', '4.0.3 and up']]\n",
      "[['1', '281656475', 'PAC-MAN Premium', '100788224', 'USD', '3.99', '21292', '26', '4', '4.5', '6.3.5', '4+', 'Games', '38', '5', '10', '1']]\n"
     ]
    }
   ],
   "source": [
    "androidEngList = []\n",
    "iosEngList = []\n",
    "for alist in android_clean:\n",
    "    if (checkEngChar(alist[0])):\n",
    "        androidEngList.append(alist)\n",
    "for alist in appsDataios[1:]:\n",
    "    if (checkEngChar(alist[2])):\n",
    "        iosEngList.append(alist)\n",
    "\n",
    "\n",
    "print(len(androidEngList), len(android_clean))\n",
    "print(len(iosEngList), len(appsDataios))\n",
    "\n",
    "print(androidEngList[:1])\n",
    "print(iosEngList[:1])"
   ]
  },
  {
   "cell_type": "code",
   "execution_count": 24,
   "metadata": {},
   "outputs": [
    {
     "name": "stdout",
     "output_type": "stream",
     "text": [
      "8863 9614\n",
      "283 6183\n",
      "[['Photo Editor & Candy Camera & Grid & ScrapBook', 'ART_AND_DESIGN', '4.1', '159', '19M', '10,000+', 'Free', '0', 'Everyone', 'Art & Design', 'January 7, 2018', '1.0.0', '4.0.3 and up']]\n",
      "[['227', '329174056', 'iLoan Calc (Loan calculator)', '3375104', 'USD', '3.99', '0', '0', '0', '0', '5.1.0', '4+', 'Finance', '37', '5', '3', '1']]\n"
     ]
    }
   ],
   "source": [
    "androidEngListFREE = []\n",
    "iosEngListFREE = []\n",
    "\n",
    "for alist in androidEngList:\n",
    "    if ((alist[6] == \"Free\") or (alist[6] == \"0\")):\n",
    "        androidEngListFREE.append(alist)\n",
    "        \n",
    "for alist in iosEngList:\n",
    "    if ((alist[6] == \"Free\") or (alist[6] == \"0\")):\n",
    "        iosEngListFREE.append(alist)\n",
    "        \n",
    "print(len(androidEngListFREE), len(androidEngList))\n",
    "print(len(iosEngListFREE), len(iosEngList))\n",
    "\n",
    "print(androidEngListFREE[:1])\n",
    "print(iosEngListFREE[:1])"
   ]
  },
  {
   "cell_type": "markdown",
   "metadata": {},
   "source": [
    "### Goal\n",
    "We want to:\n",
    "1. Build a minimal Android version of the app, and add it to Google Play.\n",
    "2. If the app has a good response from users, we develop it further.\n",
    "3. If the app is profitable after six months, we build an iOS version of the app and add it to the App Store."
   ]
  },
  {
   "cell_type": "code",
   "execution_count": 26,
   "metadata": {},
   "outputs": [
    {
     "name": "stdout",
     "output_type": "stream",
     "text": [
      "Art & Design\n",
      "Finance\n"
     ]
    }
   ],
   "source": [
    "print(androidEngListFREE[0][9])\n",
    "print(iosEngListFREE[0][12])"
   ]
  },
  {
   "cell_type": "code",
   "execution_count": 32,
   "metadata": {},
   "outputs": [],
   "source": [
    "def freq_table(dataset, index):\n",
    "    freq = {}\n",
    "    for alist in dataset:\n",
    "        genre = alist[index]\n",
    "        if (genre in freq):\n",
    "            freq[genre] += 1\n",
    "        else:\n",
    "            freq[genre] = 1\n",
    "    return freq"
   ]
  },
  {
   "cell_type": "code",
   "execution_count": 36,
   "metadata": {},
   "outputs": [],
   "source": [
    "def display_table(dataset, index):\n",
    "    table = freq_table(dataset, index)\n",
    "    table_display = []\n",
    "    for key in table:\n",
    "        key_val_as_tuple = (table[key], key)\n",
    "        table_display.append(key_val_as_tuple)\n",
    "\n",
    "    table_sorted = sorted(table_display, reverse = True)\n",
    "    for entry in table_sorted:\n",
    "        print(entry[1], ':', entry[0])"
   ]
  },
  {
   "cell_type": "code",
   "execution_count": 40,
   "metadata": {},
   "outputs": [
    {
     "name": "stdout",
     "output_type": "stream",
     "text": [
      "Games : 111\n",
      "Education : 36\n",
      "Entertainment : 20\n",
      "Photo & Video : 19\n",
      "Utilities : 18\n",
      "Health & Fitness : 13\n",
      "Sports : 8\n",
      "Social Networking : 7\n",
      "Book : 7\n",
      "News : 6\n",
      "Lifestyle : 5\n",
      "Weather : 4\n",
      "Travel : 4\n",
      "Productivity : 4\n",
      "Music : 4\n",
      "Finance : 4\n",
      "Shopping : 3\n",
      "Reference : 3\n",
      "Navigation : 2\n",
      "Medical : 2\n",
      "Food & Drink : 2\n",
      "Business : 1\n",
      "None\n"
     ]
    }
   ],
   "source": [
    "print(display_table(iosEngListFREE, 12))"
   ]
  },
  {
   "cell_type": "code",
   "execution_count": 46,
   "metadata": {},
   "outputs": [
    {
     "name": "stdout",
     "output_type": "stream",
     "text": [
      "Finance 1.995\n",
      "Book 2.2814285714285716\n",
      "Travel 1.9975\n",
      "Entertainment 0.8445\n",
      "Medical 0.0\n",
      "Social Networking 0.28285714285714286\n",
      "News 0.49666666666666665\n",
      "Photo & Video 0.9421052631578947\n",
      "Education 3.5197222222222204\n",
      "Utilities 2.049444444444445\n",
      "Productivity 0.4975\n",
      "Music 2.7425\n",
      "Sports 1.4937500000000001\n",
      "Health & Fitness 1.7638461538461538\n",
      "Games 0.7175675675675675\n",
      "Lifestyle 1.1940000000000002\n",
      "Navigation 0.99\n",
      "Reference 1.6633333333333333\n",
      "Weather 0.4975\n",
      "Shopping 0.0\n",
      "Food & Drink 2.49\n",
      "Business 1.99\n"
     ]
    }
   ],
   "source": [
    "iosFreqTableFREE = freq_table(iosEngListFREE, 12)\n",
    "for genre in iosFreqTableFREE:\n",
    "    total = 0\n",
    "    len_genre = 0\n",
    "    for alist in iosEngListFREE:\n",
    "        genre_app = alist[12]\n",
    "        if (genre_app == genre):\n",
    "            ratings = float(alist[5])\n",
    "            total += ratings\n",
    "            len_genre += 1\n",
    "    avNoofRatings = total / len_genre\n",
    "    print(genre, avNoofRatings)"
   ]
  },
  {
   "cell_type": "code",
   "execution_count": 51,
   "metadata": {},
   "outputs": [
    {
     "name": "stdout",
     "output_type": "stream",
     "text": [
      "ART_AND_DESIGN 1986335.0877192982\n",
      "AUTO_AND_VEHICLES 647317.8170731707\n",
      "BEAUTY 513151.88679245283\n",
      "BOOKS_AND_REFERENCE 8767811.894736841\n",
      "BUSINESS 1712290.1474201474\n",
      "COMICS 817657.2727272727\n",
      "COMMUNICATION 38456119.167247385\n",
      "DATING 854028.8303030303\n",
      "EDUCATION 1833495.145631068\n",
      "ENTERTAINMENT 11640705.88235294\n",
      "EVENTS 253542.22222222222\n",
      "FINANCE 1387692.475609756\n",
      "FOOD_AND_DRINK 1924897.7363636363\n",
      "HEALTH_AND_FITNESS 4188821.9853479853\n",
      "HOUSE_AND_HOME 1331540.5616438356\n",
      "LIBRARIES_AND_DEMO 638503.734939759\n",
      "LIFESTYLE 1437816.2687861272\n",
      "GAME 15588015.603248259\n",
      "FAMILY 3697848.1731343283\n",
      "MEDICAL 120550.61980830671\n",
      "SOCIAL 23253652.127118643\n",
      "SHOPPING 7036877.311557789\n",
      "PHOTOGRAPHY 17840110.40229885\n",
      "SPORTS 3638640.1428571427\n",
      "TRAVEL_AND_LOCAL 13984077.710144928\n",
      "TOOLS 10801391.298666667\n",
      "PERSONALIZATION 5201482.6122448975\n",
      "PRODUCTIVITY 16787331.344927534\n",
      "PARENTING 542603.6206896552\n",
      "WEATHER 5074486.197183099\n",
      "VIDEO_PLAYERS 24727872.452830188\n",
      "NEWS_AND_MAGAZINES 9549178.467741935\n",
      "MAPS_AND_NAVIGATION 4056941.7741935486\n"
     ]
    }
   ],
   "source": [
    "androidFreqTableFREE = freq_table(androidEngListFREE, 1)\n",
    "for category in androidFreqTableFREE:\n",
    "    total = 0\n",
    "    len_category = 0\n",
    "    for alist in androidEngListFREE:\n",
    "        category_app = alist[1]\n",
    "        if category_app == category:\n",
    "            installs = alist[5]\n",
    "            installs = installs.replace(\"+\", \"\")\n",
    "            installs = installs.replace(\",\", \"\")\n",
    "            installs = float(installs)\n",
    "            total += installs\n",
    "            len_category += 1\n",
    "    avNoofInstalls = total / len_category\n",
    "    print(category, avNoofInstalls)"
   ]
  },
  {
   "cell_type": "code",
   "execution_count": null,
   "metadata": {},
   "outputs": [],
   "source": []
  }
 ],
 "metadata": {
  "kernelspec": {
   "display_name": "Python 3",
   "language": "python",
   "name": "python3"
  },
  "language_info": {
   "codemirror_mode": {
    "name": "ipython",
    "version": 3
   },
   "file_extension": ".py",
   "mimetype": "text/x-python",
   "name": "python",
   "nbconvert_exporter": "python",
   "pygments_lexer": "ipython3",
   "version": "3.7.3"
  }
 },
 "nbformat": 4,
 "nbformat_minor": 2
}
